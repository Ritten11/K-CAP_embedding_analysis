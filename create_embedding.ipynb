{
 "cells": [
  {
   "cell_type": "code",
   "execution_count": 9,
   "metadata": {
    "collapsed": true,
    "ExecuteTime": {
     "start_time": "2023-08-04T12:07:13.573179Z",
     "end_time": "2023-08-04T12:07:13.578175Z"
    }
   },
   "outputs": [],
   "source": [
    "from pykeen.datasets import FB15k237\n",
    "from pykeen.models import TransE\n",
    "from pykeen.training import SLCWATrainingLoop\n",
    "from pykeen.evaluation import RankBasedEvaluator\n",
    "\n",
    "from torch.optim import Adam\n",
    "\n",
    "import pandas as pd"
   ]
  },
  {
   "cell_type": "code",
   "execution_count": 3,
   "outputs": [
    {
     "name": "stderr",
     "output_type": "stream",
     "text": [
      "You're trying to map triples with 30 entities and 0 relations that are not in the training set. These triples will be excluded from the mapping.\n",
      "In total 28 from 20466 triples were filtered out\n",
      "No random seed is specified. This may lead to non-reproducible results.\n"
     ]
    }
   ],
   "source": [
    "\n",
    "dataset = FB15k237()\n",
    "training_triples_factory = dataset.training\n",
    "\n",
    "model = TransE(triples_factory=training_triples_factory)\n",
    "\n",
    "optim = Adam(model.get_grad_params())\n",
    "\n"
   ],
   "metadata": {
    "collapsed": false,
    "ExecuteTime": {
     "start_time": "2023-08-04T12:03:33.203158Z",
     "end_time": "2023-08-04T12:03:33.762914Z"
    }
   }
  },
  {
   "cell_type": "code",
   "execution_count": 11,
   "outputs": [
    {
     "name": "stderr",
     "output_type": "stream",
     "text": [
      "Reconstructing all label-based triples. This is expensive and rarely needed.\n"
     ]
    }
   ],
   "source": [
    "training_pykeen = dataset.training.triples\n",
    "df = pd.read_table('./data/train.txt', header=None, names=['subject','predicate','object'])\n"
   ],
   "metadata": {
    "collapsed": false,
    "ExecuteTime": {
     "start_time": "2023-08-04T12:08:00.848314Z",
     "end_time": "2023-08-04T12:08:01.187620Z"
    }
   }
  },
  {
   "cell_type": "code",
   "execution_count": 18,
   "outputs": [
    {
     "name": "stdout",
     "output_type": "stream",
     "text": [
      "True\n",
      "True\n"
     ]
    }
   ],
   "source": [
    "print(sorted(df['subject'].sort_values().values) == sorted(training_pykeen[:,0]))\n",
    "print(sorted(df['object'].sort_values().values) == sorted(training_pykeen[:,2]))\n"
   ],
   "metadata": {
    "collapsed": false,
    "ExecuteTime": {
     "start_time": "2023-08-04T12:11:41.223564Z",
     "end_time": "2023-08-04T12:11:41.738622Z"
    }
   }
  },
  {
   "cell_type": "code",
   "execution_count": null,
   "outputs": [],
   "source": [
    "training_loop = SLCWATrainingLoop(\n",
    "    model=model,\n",
    "    triples_factory=training_triples_factory,\n",
    "    optimizer=optim\n",
    ")\n",
    "\n",
    "_ = training_loop.train(\n",
    "    triples_factory=training_triples_factory,\n",
    "    num_epochs=5,\n",
    "    batch_size=256\n",
    ")\n",
    "\n",
    "evaluator = RankBasedEvaluator()\n",
    "\n",
    "mapped_triples = dataset.testing.mapped_triples\n",
    "\n",
    "results = evaluator.evaluate(\n",
    "    model=model,\n",
    "    mapped_triples=mapped_triples,\n",
    "    batch_size=1024,\n",
    "    additional_filter_triples = [\n",
    "        dataset.testing.mapped_triples,\n",
    "        dataset.validation.mapped_triples\n",
    "    ],\n",
    ")"
   ],
   "metadata": {
    "collapsed": false
   }
  }
 ],
 "metadata": {
  "kernelspec": {
   "display_name": "Python 3",
   "language": "python",
   "name": "python3"
  },
  "language_info": {
   "codemirror_mode": {
    "name": "ipython",
    "version": 2
   },
   "file_extension": ".py",
   "mimetype": "text/x-python",
   "name": "python",
   "nbconvert_exporter": "python",
   "pygments_lexer": "ipython2",
   "version": "2.7.6"
  }
 },
 "nbformat": 4,
 "nbformat_minor": 0
}
